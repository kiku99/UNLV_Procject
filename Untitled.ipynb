{
 "cells": [
  {
   "cell_type": "code",
   "execution_count": 1,
   "id": "627588fa-80ff-45c6-ae14-a860a847b130",
   "metadata": {},
   "outputs": [
    {
     "name": "stdout",
     "output_type": "stream",
     "text": [
      "/home/su2023grp7/project/UNLV_Procject\n"
     ]
    }
   ],
   "source": [
    "!pwd"
   ]
  },
  {
   "cell_type": "code",
   "execution_count": 2,
   "id": "f3d01783-af29-4f9b-9ce6-1c95d0e4a172",
   "metadata": {},
   "outputs": [
    {
     "name": "stdout",
     "output_type": "stream",
     "text": [
      "Label Encoding-Done.\n",
      "Down Sampling-Done.\n",
      "AUC = 0.516\n",
      "Elapsed Time: 1.0 min 52.73 sec\n"
     ]
    }
   ],
   "source": [
    "import pandas as pd\n",
    "from sklearn.model_selection import train_test_split\n",
    "from sklearn.metrics import roc_auc_score\n",
    "from sklearn.preprocessing import LabelEncoder\n",
    "from sklearn import svm\n",
    "from sklearn.utils import resample\n",
    "\n",
    "import time\n",
    "\n",
    "import seaborn as sns\n",
    "import matplotlib.pyplot as plt\n",
    "\n",
    "\n",
    "def main():\n",
    "    df = pd.read_csv(\"train.csv\")\n",
    "    df.drop([\"Id\"], axis=1, inplace=True)\n",
    "\n",
    "    df.columns = map(str.lower, df.columns)\n",
    "    df.rename(columns={\"married/single\": \"married_single\"}, inplace=True)\n",
    "\n",
    "    # Category cols to num\n",
    "    cate_cols = [\"married_single\", \"profession\", \"house_ownership\", \"car_ownership\", \"city\", \"state\"]\n",
    "\n",
    "    for col in cate_cols:\n",
    "        le = LabelEncoder()\n",
    "        le = le.fit(df[col])\n",
    "        df[col] = le.transform(df[col])\n",
    "\n",
    "    print(\"Label Encoding-Done.\")\n",
    "\n",
    "    # Down sampling\n",
    "    subset_0 = df[df[\"risk_flag\"] == 0]\n",
    "    subset_1 = df[df[\"risk_flag\"] == 1]\n",
    "\n",
    "    subset_0_downsampled = resample(subset_0,\n",
    "                                    replace=False,\n",
    "                                    n_samples=len(subset_1),\n",
    "                                    random_state=42)\n",
    "\n",
    "    df = pd.concat([subset_0_downsampled, subset_1])\n",
    "\n",
    "    print(\"Down Sampling-Done.\")\n",
    "\n",
    "    X = df.drop([\"risk_flag\"], axis=1)\n",
    "    y = df[\"risk_flag\"].apply(lambda x: int(x))\n",
    "\n",
    "    X_train, X_val, y_train, y_val = train_test_split(X, y, test_size=0.2, random_state=42)\n",
    "\n",
    "    clf = svm.SVC()\n",
    "\n",
    "    # Start: training\n",
    "    start_time = time.time()\n",
    "\n",
    "    clf.fit(X_train, y_train)\n",
    "\n",
    "    # End: training\n",
    "    end_time = time.time()\n",
    "    # Calculate training time\n",
    "    elapsed_time = end_time - start_time\n",
    "\n",
    "    y_pred = clf.predict(X_val)\n",
    "\n",
    "    auc = roc_auc_score(y_val, y_pred)\n",
    "\n",
    "    print(f\"AUC = {auc:.3f}\")\n",
    "    print(f\"Elapsed Time: {elapsed_time // 60} min {elapsed_time % 60:.2f} sec\")\n",
    "\n",
    "\n",
    "if __name__ == \"__main__\":\n",
    "    main()"
   ]
  },
  {
   "cell_type": "code",
   "execution_count": 4,
   "id": "e79e86ab-f74e-4459-9822-6fdc49eadf48",
   "metadata": {},
   "outputs": [
    {
     "name": "stderr",
     "output_type": "stream",
     "text": [
      "                                                                                \r"
     ]
    },
    {
     "name": "stdout",
     "output_type": "stream",
     "text": [
      "Label Encoding-Done.\n",
      "+---------------------------------------------------------+---------+\n",
      "|features                                                 |risk_flag|\n",
      "+---------------------------------------------------------+---------+\n",
      "|[1303834.0,23.0,3.0,3.0,13.0,0.0,11.0,0.0,0.0,151.0,6.0] |0        |\n",
      "|[7574516.0,40.0,10.0,9.0,13.0,0.0,20.0,0.0,0.0,119.0,1.0]|0        |\n",
      "|[3991815.0,66.0,4.0,4.0,10.0,1.0,13.0,0.0,0.0,228.0,14.0]|0        |\n",
      "|[6256451.0,41.0,2.0,2.0,12.0,0.0,20.0,0.0,1.0,287.0,17.0]|1        |\n",
      "|[5768871.0,47.0,11.0,3.0,14.0,0.0,48.0,0.0,0.0,143.0,5.0]|1        |\n",
      "+---------------------------------------------------------+---------+\n",
      "only showing top 5 rows\n",
      "\n",
      "Down Sampling-Done.\n"
     ]
    },
    {
     "name": "stderr",
     "output_type": "stream",
     "text": [
      "23/07/11 11:19:01 WARN InstanceBuilder: Failed to load implementation from:dev.ludovic.netlib.blas.JNIBLAS\n",
      "                                                                                \r"
     ]
    },
    {
     "name": "stdout",
     "output_type": "stream",
     "text": [
      "AUC = 0.501\n",
      "Elapsed Time: 0.0 min 6.32 sec\n"
     ]
    }
   ],
   "source": [
    "from pyspark.sql import SparkSession\n",
    "from pyspark.ml.feature import StringIndexer\n",
    "from pyspark.ml.classification import LinearSVC\n",
    "from pyspark.ml.evaluation import BinaryClassificationEvaluator\n",
    "from pyspark.ml.feature import VectorAssembler\n",
    "from pyspark.ml import Pipeline\n",
    "from pyspark.sql.functions import col as scol\n",
    "from pyspark.sql.functions import rand\n",
    "\n",
    "import time\n",
    "\n",
    "\n",
    "def main():\n",
    "    spark = SparkSession.builder.appName(\"UNLV\").getOrCreate()\n",
    "\n",
    "    df = spark.read.csv(\"train.csv\", header=True, inferSchema=True)\n",
    "    df = df.drop(\"Id\").withColumnRenamed(\"married/single\", \"married_single\")\n",
    "    df = df.toDF(*(col.lower() for col in df.columns))\n",
    "    df = df.withColumn(\"risk_flag\", scol(\"risk_flag\").cast(\"integer\"))\n",
    "\n",
    "    # Category cols to num\n",
    "    cate_cols = [\"married_single\", \"profession\", \"house_ownership\", \"car_ownership\", \"city\", \"state\"]\n",
    "\n",
    "    indexers = [StringIndexer(inputCol=col, outputCol=col + \"_idx\").fit(df) for col in cate_cols]\n",
    "\n",
    "    pipeline = Pipeline(stages=indexers)\n",
    "    df = pipeline.fit(df).transform(df)\n",
    "    df = df.drop(*cate_cols)\n",
    "\n",
    "    print(\"Label Encoding-Done.\")\n",
    "\n",
    "    assembler = VectorAssembler(\n",
    "        inputCols=[col for col in df.columns if col != \"risk_flag\"],\n",
    "        outputCol=\"features\"\n",
    "    )\n",
    "    df = assembler.transform(df)\n",
    "    df = df.select([\"features\", \"risk_flag\"])\n",
    "\n",
    "    df.show(5, truncate=False)\n",
    "\n",
    "    # Down sampling\n",
    "    pos_count = df.filter(\"risk_flag = 1\").count()\n",
    "    neg_df = df.filter(\"risk_flag = 0\")\n",
    "    sampled_neg_df = neg_df.orderBy(rand(seed=42)).limit(pos_count)\n",
    "    df = sampled_neg_df.union(df.filter(\"risk_flag = 1\"))\n",
    "\n",
    "    print(\"Down Sampling-Done.\")\n",
    "\n",
    "    # Define model\n",
    "    train, val = df.randomSplit([0.8, 0.2], seed=42)\n",
    "\n",
    "    svm = LinearSVC(labelCol=\"risk_flag\", weightCol=\"risk_flag\", maxIter=100) # default 100\n",
    "\n",
    "    # Start: training\n",
    "    start_time = time.time()\n",
    "\n",
    "    model = svm.fit(train)\n",
    "\n",
    "    # End: training\n",
    "    end_time = time.time()\n",
    "    # Calculate training time\n",
    "    elapsed_time = end_time - start_time\n",
    "\n",
    "    predictions = model.transform(val)\n",
    "\n",
    "    evaluator = BinaryClassificationEvaluator(labelCol=\"risk_flag\", metricName=\"areaUnderROC\")\n",
    "    auc = evaluator.evaluate(predictions)\n",
    "\n",
    "    print(f\"AUC = {auc:.3f}\")\n",
    "    print(f\"Elapsed Time: {elapsed_time // 60} min {elapsed_time % 60:.2f} sec\")\n",
    "\n",
    "\n",
    "if __name__ == \"__main__\":\n",
    "    main()"
   ]
  },
  {
   "cell_type": "code",
   "execution_count": null,
   "id": "18a32254-0906-4e27-b368-aac5f3adf47d",
   "metadata": {},
   "outputs": [],
   "source": []
  }
 ],
 "metadata": {
  "kernelspec": {
   "display_name": "daniel",
   "language": "python",
   "name": "daniel"
  },
  "language_info": {
   "codemirror_mode": {
    "name": "ipython",
    "version": 3
   },
   "file_extension": ".py",
   "mimetype": "text/x-python",
   "name": "python",
   "nbconvert_exporter": "python",
   "pygments_lexer": "ipython3",
   "version": "3.8.17"
  }
 },
 "nbformat": 4,
 "nbformat_minor": 5
}
